{
 "cells": [
  {
   "cell_type": "code",
   "execution_count": 1,
   "id": "35000556",
   "metadata": {},
   "outputs": [],
   "source": [
    "# loading initail libraries\n",
    "\n",
    "import numpy as np\n",
    "import matplotlib.pyplot as plt\n",
    "import pandas as pd\n",
    "from sklearn import linear_model"
   ]
  },
  {
   "cell_type": "code",
   "execution_count": 2,
   "id": "9dd06d2b",
   "metadata": {},
   "outputs": [
    {
     "data": {
      "text/html": [
       "<div>\n",
       "<style scoped>\n",
       "    .dataframe tbody tr th:only-of-type {\n",
       "        vertical-align: middle;\n",
       "    }\n",
       "\n",
       "    .dataframe tbody tr th {\n",
       "        vertical-align: top;\n",
       "    }\n",
       "\n",
       "    .dataframe thead th {\n",
       "        text-align: right;\n",
       "    }\n",
       "</style>\n",
       "<table border=\"1\" class=\"dataframe\">\n",
       "  <thead>\n",
       "    <tr style=\"text-align: right;\">\n",
       "      <th></th>\n",
       "      <th>Experience Years</th>\n",
       "      <th>Salary</th>\n",
       "    </tr>\n",
       "  </thead>\n",
       "  <tbody>\n",
       "    <tr>\n",
       "      <th>0</th>\n",
       "      <td>1.1</td>\n",
       "      <td>39343</td>\n",
       "    </tr>\n",
       "    <tr>\n",
       "      <th>1</th>\n",
       "      <td>1.2</td>\n",
       "      <td>42774</td>\n",
       "    </tr>\n",
       "    <tr>\n",
       "      <th>2</th>\n",
       "      <td>1.3</td>\n",
       "      <td>46205</td>\n",
       "    </tr>\n",
       "    <tr>\n",
       "      <th>3</th>\n",
       "      <td>1.5</td>\n",
       "      <td>37731</td>\n",
       "    </tr>\n",
       "    <tr>\n",
       "      <th>4</th>\n",
       "      <td>2.0</td>\n",
       "      <td>43525</td>\n",
       "    </tr>\n",
       "  </tbody>\n",
       "</table>\n",
       "</div>"
      ],
      "text/plain": [
       "   Experience Years  Salary\n",
       "0               1.1   39343\n",
       "1               1.2   42774\n",
       "2               1.3   46205\n",
       "3               1.5   37731\n",
       "4               2.0   43525"
      ]
     },
     "execution_count": 2,
     "metadata": {},
     "output_type": "execute_result"
    }
   ],
   "source": [
    "# import data file.\n",
    "salary=pd.read_csv(\"https://github.com/ybifoundation/Dataset/raw/main/Salary%20Data.csv\")\n",
    "salary.head()"
   ]
  },
  {
   "cell_type": "markdown",
   "id": "999b8bea",
   "metadata": {},
   "source": [
    "Above table gives information about the salary of with respect to the Experience."
   ]
  },
  {
   "cell_type": "code",
   "execution_count": 3,
   "id": "bb7a87b9",
   "metadata": {},
   "outputs": [],
   "source": [
    "# Define x and y variable.\n",
    "\n",
    "x=salary[[\"Experience Years\"]]\n",
    "y=salary[[\"Salary\"]]"
   ]
  },
  {
   "cell_type": "code",
   "execution_count": 4,
   "id": "981822ff",
   "metadata": {},
   "outputs": [],
   "source": [
    "# split the data into train and test, consider train data =80% and test data=20%. \n",
    "\n",
    "from sklearn.model_selection import train_test_split\n",
    "x_train, x_test, y_train, y_test = train_test_split(x, y, train_size=0.8, random_state=2346)"
   ]
  },
  {
   "cell_type": "code",
   "execution_count": 5,
   "id": "efef95f3",
   "metadata": {},
   "outputs": [],
   "source": [
    "# import model librabry for regression \n",
    "\n",
    "from sklearn.linear_model import LinearRegression\n",
    "model = LinearRegression()"
   ]
  },
  {
   "cell_type": "code",
   "execution_count": 6,
   "id": "a5fd9d7b",
   "metadata": {},
   "outputs": [
    {
     "name": "stdout",
     "output_type": "stream",
     "text": [
      "slope of the line:  [[9378.07563915]]\n",
      "intercept of the line:  [25804.17130377]\n"
     ]
    }
   ],
   "source": [
    "# fit the data and find out the slope and intercept.\n",
    "model.fit(x_train, y_train)\n",
    "\n",
    "print(\"slope of the line: \",model.coef_)\n",
    "print(\"intercept of the line: \",model.intercept_)"
   ]
  },
  {
   "cell_type": "code",
   "execution_count": 7,
   "id": "a912c9d7",
   "metadata": {},
   "outputs": [
    {
     "name": "stdout",
     "output_type": "stream",
     "text": [
      "[[ 71756.74193561]\n",
      " [ 49249.36040165]\n",
      " [ 81134.81757476]\n",
      " [ 75507.97219127]\n",
      " [ 44560.32258207]\n",
      " [105517.81423654]\n",
      " [ 82072.62513867]\n",
      " [ 77383.5873191 ]]\n"
     ]
    }
   ],
   "source": [
    "#  prediction \n",
    "y_predict = model.predict(x_test)\n",
    "print(y_predict)"
   ]
  },
  {
   "cell_type": "code",
   "execution_count": 8,
   "id": "7f1d409f",
   "metadata": {},
   "outputs": [
    {
     "data": {
      "image/png": "[encoded data removed]",
      "text/plain": [
       "<Figure size 640x480 with 1 Axes>"
      ]
     },
     "metadata": {},
     "output_type": "display_data"
    }
   ],
   "source": [
    "# plot the prediction salary.\n",
    "\n",
    "plt.xlabel(\"Experience Years\")\n",
    "plt.ylabel(\"Salary\")\n",
    "plt.scatter(x_test, y_test, color = \"red\")\n",
    "plt.plot(x_test, y_predict, color = \"green\")\n",
    "plt.title('salary vs Experience Years')\n",
    "plt.show()"
   ]
  },
  {
   "cell_type": "markdown",
   "id": "675e11ae",
   "metadata": {},
   "source": [
    "The graph that shows a positive correlation between experience of years and salary. This means that as the number of years of experience increases, the salary also increases. The x-axis shows experience in years and the y-axis shows salary amounts."
   ]
  },
  {
   "cell_type": "code",
   "execution_count": 9,
   "id": "24698d59",
   "metadata": {},
   "outputs": [],
   "source": [
    "# find out the error value in between test and predict\n",
    "\n",
    "from sklearn.metrics import mean_absolute_error, mean_absolute_percentage_error, mean_squared_error"
   ]
  },
  {
   "cell_type": "code",
   "execution_count": 10,
   "id": "216b7b9b",
   "metadata": {},
   "outputs": [
    {
     "data": {
      "text/plain": [
       "4553.95105737449"
      ]
     },
     "execution_count": 10,
     "metadata": {},
     "output_type": "execute_result"
    }
   ],
   "source": [
    "mae= mean_absolute_error(y_test, y_predict)\n",
    "mae"
   ]
  },
  {
   "cell_type": "markdown",
   "id": "2a2aec48",
   "metadata": {},
   "source": [
    "The average size of the mistakes in a collection of predictions, and It is measured as the average absolute difference between the predicted values and the actual values and is used to assess the effectiveness of a regression model."
   ]
  },
  {
   "cell_type": "code",
   "execution_count": 11,
   "id": "900b36c9",
   "metadata": {},
   "outputs": [
    {
     "data": {
      "text/plain": [
       "0.054249458458326086"
      ]
     },
     "execution_count": 11,
     "metadata": {},
     "output_type": "execute_result"
    }
   ],
   "source": [
    "mpe= mean_absolute_percentage_error(y_test, y_predict)\n",
    "mpe"
   ]
  },
  {
   "cell_type": "markdown",
   "id": "d1491ebc",
   "metadata": {},
   "source": [
    "It is basically percentage of the mean abosolute error."
   ]
  },
  {
   "cell_type": "code",
   "execution_count": 12,
   "id": "78ab0fd6",
   "metadata": {},
   "outputs": [
    {
     "data": {
      "text/plain": [
       "34424957.2004284"
      ]
     },
     "execution_count": 12,
     "metadata": {},
     "output_type": "execute_result"
    }
   ],
   "source": [
    "mse= mean_squared_error(y_test, y_predict)\n",
    "mse"
   ]
  },
  {
   "cell_type": "markdown",
   "id": "86fd9d09",
   "metadata": {},
   "source": [
    "It is mean squared value of the error. "
   ]
  }
 ],
 "metadata": {
  "kernelspec": {
   "display_name": "Python 3 (ipykernel)",
   "language": "python",
   "name": "python3"
  },
  "language_info": {
   "codemirror_mode": {
    "name": "ipython",
    "version": 3
   },
   "file_extension": ".py",
   "mimetype": "text/x-python",
   "name": "python",
   "nbconvert_exporter": "python",
   "pygments_lexer": "ipython3",
   "version": "3.11.5"
  }
 },
 "nbformat": 4,
 "nbformat_minor": 5
}
