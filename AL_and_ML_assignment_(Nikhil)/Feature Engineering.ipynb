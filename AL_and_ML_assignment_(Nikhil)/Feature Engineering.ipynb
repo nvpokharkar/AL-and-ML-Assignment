{
 "cells": [
  {
   "cell_type": "markdown",
   "id": "ff05be7a",
   "metadata": {},
   "source": [
    "## Feature Engineering Assignment"
   ]
  },
  {
   "cell_type": "code",
   "execution_count": 30,
   "id": "326b4cb1",
   "metadata": {},
   "outputs": [],
   "source": [
    "# load libraries \n",
    "\n",
    "import pandas as pd\n",
    "import matplotlib.pyplot as plt\n",
    "import numpy as np\n",
    "import seaborn\n",
    "from sklearn.linear_model import LogisticRegression \n",
    "from sklearn.model_selection import train_test_split\n",
    "from sklearn.preprocessing import StandardScaler, MinMaxScaler\n",
    "from sklearn.metrics import accuracy_score"
   ]
  },
  {
   "cell_type": "code",
   "execution_count": 31,
   "id": "c32ef085",
   "metadata": {},
   "outputs": [
    {
     "data": {
      "text/html": [
       "<div>\n",
       "<style scoped>\n",
       "    .dataframe tbody tr th:only-of-type {\n",
       "        vertical-align: middle;\n",
       "    }\n",
       "\n",
       "    .dataframe tbody tr th {\n",
       "        vertical-align: top;\n",
       "    }\n",
       "\n",
       "    .dataframe thead th {\n",
       "        text-align: right;\n",
       "    }\n",
       "</style>\n",
       "<table border=\"1\" class=\"dataframe\">\n",
       "  <thead>\n",
       "    <tr style=\"text-align: right;\">\n",
       "      <th></th>\n",
       "      <th>spent</th>\n",
       "      <th>nearest_starbucks</th>\n",
       "      <th>age</th>\n",
       "      <th>rate_quality</th>\n",
       "      <th>rate_price</th>\n",
       "      <th>rate_promo</th>\n",
       "      <th>ambiance</th>\n",
       "      <th>wifi</th>\n",
       "      <th>service</th>\n",
       "      <th>meetings_hangout</th>\n",
       "    </tr>\n",
       "  </thead>\n",
       "  <tbody>\n",
       "    <tr>\n",
       "      <th>0</th>\n",
       "      <td>13</td>\n",
       "      <td>8</td>\n",
       "      <td>52</td>\n",
       "      <td>4</td>\n",
       "      <td>4</td>\n",
       "      <td>4</td>\n",
       "      <td>4</td>\n",
       "      <td>4</td>\n",
       "      <td>4</td>\n",
       "      <td>4</td>\n",
       "    </tr>\n",
       "    <tr>\n",
       "      <th>1</th>\n",
       "      <td>25</td>\n",
       "      <td>8</td>\n",
       "      <td>35</td>\n",
       "      <td>4</td>\n",
       "      <td>5</td>\n",
       "      <td>5</td>\n",
       "      <td>4</td>\n",
       "      <td>4</td>\n",
       "      <td>3</td>\n",
       "      <td>3</td>\n",
       "    </tr>\n",
       "    <tr>\n",
       "      <th>2</th>\n",
       "      <td>10</td>\n",
       "      <td>8</td>\n",
       "      <td>29</td>\n",
       "      <td>2</td>\n",
       "      <td>1</td>\n",
       "      <td>5</td>\n",
       "      <td>2</td>\n",
       "      <td>2</td>\n",
       "      <td>2</td>\n",
       "      <td>2</td>\n",
       "    </tr>\n",
       "    <tr>\n",
       "      <th>3</th>\n",
       "      <td>7</td>\n",
       "      <td>8</td>\n",
       "      <td>28</td>\n",
       "      <td>4</td>\n",
       "      <td>1</td>\n",
       "      <td>4</td>\n",
       "      <td>5</td>\n",
       "      <td>3</td>\n",
       "      <td>3</td>\n",
       "      <td>4</td>\n",
       "    </tr>\n",
       "    <tr>\n",
       "      <th>4</th>\n",
       "      <td>10</td>\n",
       "      <td>8</td>\n",
       "      <td>28</td>\n",
       "      <td>4</td>\n",
       "      <td>2</td>\n",
       "      <td>4</td>\n",
       "      <td>4</td>\n",
       "      <td>3</td>\n",
       "      <td>4</td>\n",
       "      <td>3</td>\n",
       "    </tr>\n",
       "  </tbody>\n",
       "</table>\n",
       "</div>"
      ],
      "text/plain": [
       "   spent  nearest_starbucks  age  rate_quality  rate_price  rate_promo  \\\n",
       "0     13                  8   52             4           4           4   \n",
       "1     25                  8   35             4           5           5   \n",
       "2     10                  8   29             2           1           5   \n",
       "3      7                  8   28             4           1           4   \n",
       "4     10                  8   28             4           2           4   \n",
       "\n",
       "   ambiance  wifi  service  meetings_hangout  \n",
       "0         4     4        4                 4  \n",
       "1         4     4        3                 3  \n",
       "2         2     2        2                 2  \n",
       "3         5     3        3                 4  \n",
       "4         4     3        4                 3  "
      ]
     },
     "execution_count": 31,
     "metadata": {},
     "output_type": "execute_result"
    }
   ],
   "source": [
    "# Data set load\n",
    "\n",
    "coffee = pd.read_csv('starbucks_customers.csv', delimiter=\";\")\n",
    "coffee.head()"
   ]
  },
  {
   "cell_type": "markdown",
   "id": "d0282111",
   "metadata": {},
   "source": [
    "Above data shows the starbucks customer data its showing features like spent, nearest_starbucks, age, rate_quality, rate_price, rate_promo, ambiance, wifi, service and meeting hangout."
   ]
  },
  {
   "cell_type": "code",
   "execution_count": 32,
   "id": "60b7a284",
   "metadata": {},
   "outputs": [
    {
     "data": {
      "image/png": "[encoded data removed]",
      "text/plain": [
       "<Figure size 640x480 with 1 Axes>"
      ]
     },
     "metadata": {},
     "output_type": "display_data"
    }
   ],
   "source": [
    "# Plot the customer age histogram.\n",
    "\n",
    "ages=coffee[\"age\"]\n",
    "plt.hist(ages, bins=10)\n",
    "plt.show()"
   ]
  },
  {
   "cell_type": "code",
   "execution_count": 33,
   "id": "32cfe5e8",
   "metadata": {},
   "outputs": [
    {
     "name": "stdout",
     "output_type": "stream",
     "text": [
      "13\n",
      "70\n"
     ]
    }
   ],
   "source": [
    "# findout Minimum and Maximum age\n",
    "\n",
    "min_age=min(ages)\n",
    "max_age=max(ages)\n",
    "print( min_age)\n",
    "print(max_age)"
   ]
  },
  {
   "cell_type": "code",
   "execution_count": 34,
   "id": "a27fb5aa",
   "metadata": {},
   "outputs": [
    {
     "name": "stdout",
     "output_type": "stream",
     "text": [
      "27.33606557377049\n"
     ]
    }
   ],
   "source": [
    "# Find the mean age \n",
    "\n",
    "mean_ages= ages.mean()\n",
    "print (mean_ages)"
   ]
  },
  {
   "cell_type": "code",
   "execution_count": 35,
   "id": "cb6cfbb0",
   "metadata": {},
   "outputs": [
    {
     "name": "stdout",
     "output_type": "stream",
     "text": [
      "0      24.663934\n",
      "1       7.663934\n",
      "2       1.663934\n",
      "3       0.663934\n",
      "4       0.663934\n",
      "         ...    \n",
      "117    -5.336066\n",
      "118    -5.336066\n",
      "119    -7.336066\n",
      "120    -7.336066\n",
      "121   -13.336066\n",
      "Name: age, Length: 122, dtype: float64\n"
     ]
    }
   ],
   "source": [
    "# find out the centered age\n",
    "\n",
    "centered_ages=ages-mean_ages\n",
    "print(centered_ages)"
   ]
  },
  {
   "cell_type": "code",
   "execution_count": 36,
   "id": "58a0e385",
   "metadata": {},
   "outputs": [
    {
     "data": {
      "image/png": "[encoded data removed]",
      "text/plain": [
       "<Figure size 640x480 with 1 Axes>"
      ]
     },
     "metadata": {},
     "output_type": "display_data"
    }
   ],
   "source": [
    "# Plot the customer age centered histogram.\n",
    "\n",
    "plt.hist(centered_ages, bins=10,)\n",
    "plt.title('starbucks customer age centered')\n",
    "plt.xlabel('difference in age from mean')\n",
    "plt.ylabel('count')\n",
    "plt.show()"
   ]
  },
  {
   "cell_type": "code",
   "execution_count": 37,
   "id": "88cc93c6",
   "metadata": {},
   "outputs": [
    {
     "name": "stdout",
     "output_type": "stream",
     "text": [
      "9.318593255870167e-16\n"
     ]
    }
   ],
   "source": [
    "centered_age_means=centered_ages.mean()\n",
    "print(centered_age_means)"
   ]
  },
  {
   "cell_type": "code",
   "execution_count": 38,
   "id": "7ddbf5d0",
   "metadata": {},
   "outputs": [
    {
     "name": "stdout",
     "output_type": "stream",
     "text": [
      "9.428428111378786\n"
     ]
    }
   ],
   "source": [
    "# using scaling with standrad scaler.\n",
    "\n",
    "std_dev_age=np.std(ages)\n",
    "print(std_dev_age)"
   ]
  },
  {
   "cell_type": "code",
   "execution_count": 39,
   "id": "213af27c",
   "metadata": {},
   "outputs": [
    {
     "name": "stdout",
     "output_type": "stream",
     "text": [
      "0      2.615912\n",
      "1      0.812854\n",
      "2      0.176481\n",
      "3      0.070418\n",
      "4      0.070418\n",
      "         ...   \n",
      "117   -0.565955\n",
      "118   -0.565955\n",
      "119   -0.778079\n",
      "120   -0.778079\n",
      "121   -1.414453\n",
      "Name: age, Length: 122, dtype: float64\n",
      "1.383228686418228e-16\n",
      "1.0000000000000002\n"
     ]
    }
   ],
   "source": [
    "ages_standardization=centered_ages/std_dev_age\n",
    "print(ages_standardization)\n",
    "print(np.mean(ages_standardization))\n",
    "print(np.std(ages_standardization))"
   ]
  },
  {
   "cell_type": "code",
   "execution_count": 40,
   "id": "f5a60a7e",
   "metadata": {},
   "outputs": [
    {
     "data": {
      "image/png": "[encoded data removed]",
      "text/plain": [
       "<Figure size 640x480 with 1 Axes>"
      ]
     },
     "metadata": {},
     "output_type": "display_data"
    }
   ],
   "source": [
    "plt.hist(ages_standardization, bins=10,)\n",
    "plt.title('starbucks customer age centered')\n",
    "plt.xlabel('difference in age from mean')\n",
    "plt.ylabel('count')\n",
    "plt.show()"
   ]
  },
  {
   "cell_type": "markdown",
   "id": "1ab0090e",
   "metadata": {},
   "source": [
    "## Standard scaler Method"
   ]
  },
  {
   "cell_type": "code",
   "execution_count": 41,
   "id": "5a5bec09",
   "metadata": {},
   "outputs": [
    {
     "name": "stdout",
     "output_type": "stream",
     "text": [
      "1.7290358580227847e-16\n",
      "0.9999999999999999\n"
     ]
    }
   ],
   "source": [
    "# using standard scaler method.\n",
    "\n",
    "scaler=StandardScaler()\n",
    "ages_reshaped=np.array(ages).reshape(-1,1)\n",
    "ages_scaled=scaler.fit_transform(ages_reshaped)\n",
    "print(np.mean(ages_scaled))\n",
    "print(np.std(ages_scaled))"
   ]
  },
  {
   "cell_type": "code",
   "execution_count": 42,
   "id": "1b2109a9",
   "metadata": {},
   "outputs": [
    {
     "name": "stdout",
     "output_type": "stream",
     "text": [
      "0\n",
      "28\n"
     ]
    }
   ],
   "source": [
    "# Maximum spent and Minimum spent \n",
    "\n",
    "spent=coffee[\"spent\"]\n",
    "min_spent=min(spent)\n",
    "max_spent=max(spent)\n",
    "print(min_spent)\n",
    "print(max_spent)"
   ]
  },
  {
   "cell_type": "code",
   "execution_count": 43,
   "id": "80d64c36",
   "metadata": {},
   "outputs": [
    {
     "name": "stdout",
     "output_type": "stream",
     "text": [
      "28\n"
     ]
    }
   ],
   "source": [
    "#find the difference between spent \n",
    "\n",
    "diff_spent= max_spent-min_spent\n",
    "print (diff_spent)"
   ]
  },
  {
   "cell_type": "code",
   "execution_count": 44,
   "id": "8a764961",
   "metadata": {},
   "outputs": [
    {
     "name": "stdout",
     "output_type": "stream",
     "text": [
      "0      0.464286\n",
      "1      0.892857\n",
      "2      0.357143\n",
      "3      0.250000\n",
      "4      0.357143\n",
      "         ...   \n",
      "117    0.178571\n",
      "118    0.571429\n",
      "119    0.071429\n",
      "120    0.678571\n",
      "121    0.107143\n",
      "Name: spent, Length: 122, dtype: float64\n"
     ]
    }
   ],
   "source": [
    "# normalised spent by customer.\n",
    "\n",
    "normalised_spent= (spent- min_spent)/(diff_spent)\n",
    "print (normalised_spent)"
   ]
  },
  {
   "cell_type": "code",
   "execution_count": 45,
   "id": "fce97e02",
   "metadata": {},
   "outputs": [
    {
     "data": {
      "image/png": "[encoded data removed]",
      "text/plain": [
       "<Figure size 640x480 with 1 Axes>"
      ]
     },
     "metadata": {},
     "output_type": "display_data"
    }
   ],
   "source": [
    "# Plot the histogram Normalised spent by customer\n",
    "\n",
    "plt.hist(normalised_spent, bins=10,)\n",
    "plt.title('starbucks normalised spent ')\n",
    "plt.xlabel('normalised spent')\n",
    "plt.ylabel('count')\n",
    "plt.show()"
   ]
  },
  {
   "cell_type": "code",
   "execution_count": 46,
   "id": "c194f639",
   "metadata": {},
   "outputs": [
    {
     "name": "stdout",
     "output_type": "stream",
     "text": [
      "0.0\n",
      "1.0\n"
     ]
    }
   ],
   "source": [
    "# using min max scaler method.\n",
    "\n",
    "mmscaler = MinMaxScaler()\n",
    "spent_reshaped = np.array(spent).reshape(-1,1)\n",
    "spent_mmscaler = mmscaler.fit_transform(spent_reshaped)\n",
    "print(np.min(spent_mmscaler))\n",
    "print(np.max(spent_mmscaler))\n"
   ]
  },
  {
   "cell_type": "markdown",
   "id": "18043256",
   "metadata": {},
   "source": [
    "## MinMax scaler method"
   ]
  },
  {
   "cell_type": "code",
   "execution_count": 47,
   "id": "dfe89c6a",
   "metadata": {},
   "outputs": [
    {
     "data": {
      "image/png": "[encoded data removed]",
      "text/plain": [
       "<Figure size 640x480 with 1 Axes>"
      ]
     },
     "metadata": {},
     "output_type": "display_data"
    }
   ],
   "source": [
    "# plot histogram for customer age using Maxmin scaler method.\n",
    "\n",
    "plt.hist(spent_mmscaler, bins=10,)\n",
    "plt.title('starbucks customer age')\n",
    "plt.xlabel('age')\n",
    "plt.ylabel('count')\n",
    "plt.show()"
   ]
  },
  {
   "cell_type": "code",
   "execution_count": 48,
   "id": "ec8035b6",
   "metadata": {},
   "outputs": [
    {
     "name": "stdout",
     "output_type": "stream",
     "text": [
      "0    [40, 75)\n",
      "1    [30, 40)\n",
      "2    [20, 30)\n",
      "3    [20, 30)\n",
      "4    [20, 30)\n",
      "5    [20, 30)\n",
      "6    [20, 30)\n",
      "7    [20, 30)\n",
      "8    [20, 30)\n",
      "9    [20, 30)\n",
      "Name: binned_ages, dtype: category\n",
      "Categories (4, interval[int64, left]): [[12, 20) < [20, 30) < [30, 40) < [40, 75)]\n"
     ]
    }
   ],
   "source": [
    "# using bins for normalised the data.\n",
    "\n",
    "age_bins=[12, 20, 30, 40,75]\n",
    "coffee[\"binned_ages\"]=pd.cut(coffee['age'], age_bins, right=False)\n",
    "print(coffee[\"binned_ages\"].head(10))"
   ]
  },
  {
   "cell_type": "code",
   "execution_count": 49,
   "id": "4f19d0e7",
   "metadata": {},
   "outputs": [
    {
     "data": {
      "image/png": "[encoded data removed]",
      "text/plain": [
       "<Figure size 640x480 with 1 Axes>"
      ]
     },
     "metadata": {},
     "output_type": "display_data"
    }
   ],
   "source": [
    "# plot the graph between the starbucks customer age distribution.\n",
    "\n",
    "coffee[\"binned_ages\"].value_counts().plot(kind='bar')\n",
    "plt.title('starbucks customer age distribution')\n",
    "plt.xlabel('age')\n",
    "plt.ylabel('Count')\n",
    "plt.show()\n"
   ]
  },
  {
   "attachments": {},
   "cell_type": "markdown",
   "id": "d641f000",
   "metadata": {},
   "source": [
    "It is showing x-axis as age range and y-axis as the count of customers in that age range. largest age group of Starbucks customers are between 20 and 30 years old also less customer in between 40 to 75 age group."
   ]
  },
  {
   "cell_type": "markdown",
   "id": "8780a38c",
   "metadata": {},
   "source": [
    "## Log function for data normalising\n"
   ]
  },
  {
   "cell_type": "code",
   "execution_count": 50,
   "id": "0fa25d0b",
   "metadata": {},
   "outputs": [
    {
     "data": {
      "text/html": [
       "<div>\n",
       "<style scoped>\n",
       "    .dataframe tbody tr th:only-of-type {\n",
       "        vertical-align: middle;\n",
       "    }\n",
       "\n",
       "    .dataframe tbody tr th {\n",
       "        vertical-align: top;\n",
       "    }\n",
       "\n",
       "    .dataframe thead th {\n",
       "        text-align: right;\n",
       "    }\n",
       "</style>\n",
       "<table border=\"1\" class=\"dataframe\">\n",
       "  <thead>\n",
       "    <tr style=\"text-align: right;\">\n",
       "      <th></th>\n",
       "      <th>Unnamed: 0</th>\n",
       "      <th>year</th>\n",
       "      <th>make</th>\n",
       "      <th>model</th>\n",
       "      <th>trim</th>\n",
       "      <th>body</th>\n",
       "      <th>transmission</th>\n",
       "      <th>vin</th>\n",
       "      <th>state</th>\n",
       "      <th>condition</th>\n",
       "      <th>odometer</th>\n",
       "      <th>color</th>\n",
       "      <th>interior</th>\n",
       "      <th>seller</th>\n",
       "      <th>mmr</th>\n",
       "      <th>sellingprice</th>\n",
       "      <th>saledate</th>\n",
       "      <th>Unnamed: 16</th>\n",
       "    </tr>\n",
       "  </thead>\n",
       "  <tbody>\n",
       "    <tr>\n",
       "      <th>0</th>\n",
       "      <td>449069</td>\n",
       "      <td>2006</td>\n",
       "      <td>Chrysler</td>\n",
       "      <td>300</td>\n",
       "      <td>Base</td>\n",
       "      <td>Sedan</td>\n",
       "      <td>automatic</td>\n",
       "      <td>2c3ka43r76h366165</td>\n",
       "      <td>il</td>\n",
       "      <td>1.9</td>\n",
       "      <td>119618.0</td>\n",
       "      <td>blue</td>\n",
       "      <td>gray</td>\n",
       "      <td>go financial</td>\n",
       "      <td>4775</td>\n",
       "      <td>2500</td>\n",
       "      <td>Thu May 28 2015 03:00:00 GMT-0700 (PDT)</td>\n",
       "      <td>NaN</td>\n",
       "    </tr>\n",
       "    <tr>\n",
       "      <th>1</th>\n",
       "      <td>197199</td>\n",
       "      <td>2014</td>\n",
       "      <td>Volkswagen</td>\n",
       "      <td>Jetta</td>\n",
       "      <td>S</td>\n",
       "      <td>Sedan</td>\n",
       "      <td>manual</td>\n",
       "      <td>3vw1k7aj9em275429</td>\n",
       "      <td>ca</td>\n",
       "      <td>4.9</td>\n",
       "      <td>7740.0</td>\n",
       "      <td>—</td>\n",
       "      <td>black</td>\n",
       "      <td>volkswagen credit inc/sc</td>\n",
       "      <td>12050</td>\n",
       "      <td>12750</td>\n",
       "      <td>Wed Jul 01 2015 09:30:00 GMT-0700 (PDT)</td>\n",
       "      <td>NaN</td>\n",
       "    </tr>\n",
       "    <tr>\n",
       "      <th>2</th>\n",
       "      <td>288171</td>\n",
       "      <td>2007</td>\n",
       "      <td>Dodge</td>\n",
       "      <td>Durango</td>\n",
       "      <td>SLT</td>\n",
       "      <td>SUV</td>\n",
       "      <td>automatic</td>\n",
       "      <td>1d8hd48p97f510727</td>\n",
       "      <td>fl</td>\n",
       "      <td>1.9</td>\n",
       "      <td>166628.0</td>\n",
       "      <td>gold</td>\n",
       "      <td>tan</td>\n",
       "      <td>mid atlantic finance/clearwater</td>\n",
       "      <td>2850</td>\n",
       "      <td>2700</td>\n",
       "      <td>Wed Feb 11 2015 08:00:00 GMT-0800 (PST)</td>\n",
       "      <td>NaN</td>\n",
       "    </tr>\n",
       "    <tr>\n",
       "      <th>3</th>\n",
       "      <td>277025</td>\n",
       "      <td>2013</td>\n",
       "      <td>Mercedes-Benz</td>\n",
       "      <td>E-Class</td>\n",
       "      <td>E350 Sport</td>\n",
       "      <td>Sedan</td>\n",
       "      <td>automatic</td>\n",
       "      <td>wddhf5kb3da735753</td>\n",
       "      <td>tx</td>\n",
       "      <td>3.8</td>\n",
       "      <td>23923.0</td>\n",
       "      <td>white</td>\n",
       "      <td>off-white</td>\n",
       "      <td>mercedes-benz financial services</td>\n",
       "      <td>32200</td>\n",
       "      <td>32000</td>\n",
       "      <td>Thu Feb 12 2015 03:00:00 GMT-0800 (PST)</td>\n",
       "      <td>NaN</td>\n",
       "    </tr>\n",
       "    <tr>\n",
       "      <th>4</th>\n",
       "      <td>322760</td>\n",
       "      <td>2013</td>\n",
       "      <td>Ford</td>\n",
       "      <td>Explorer</td>\n",
       "      <td>XLT</td>\n",
       "      <td>SUV</td>\n",
       "      <td>automatic</td>\n",
       "      <td>1fm5k8d84dgc59887</td>\n",
       "      <td>mi</td>\n",
       "      <td>5.0</td>\n",
       "      <td>18494.0</td>\n",
       "      <td>red</td>\n",
       "      <td>black</td>\n",
       "      <td>ford motor credit company,llc</td>\n",
       "      <td>29100</td>\n",
       "      <td>28100</td>\n",
       "      <td>Thu Jun 11 2015 02:30:00 GMT-0700 (PDT)</td>\n",
       "      <td>NaN</td>\n",
       "    </tr>\n",
       "  </tbody>\n",
       "</table>\n",
       "</div>"
      ],
      "text/plain": [
       "   Unnamed: 0  year           make     model        trim   body transmission  \\\n",
       "0      449069  2006       Chrysler       300        Base  Sedan    automatic   \n",
       "1      197199  2014     Volkswagen     Jetta           S  Sedan       manual   \n",
       "2      288171  2007          Dodge   Durango         SLT    SUV    automatic   \n",
       "3      277025  2013  Mercedes-Benz   E-Class  E350 Sport  Sedan    automatic   \n",
       "4      322760  2013           Ford  Explorer         XLT    SUV    automatic   \n",
       "\n",
       "                 vin state  condition  odometer  color   interior  \\\n",
       "0  2c3ka43r76h366165    il        1.9  119618.0   blue       gray   \n",
       "1  3vw1k7aj9em275429    ca        4.9    7740.0      —      black   \n",
       "2  1d8hd48p97f510727    fl        1.9  166628.0   gold        tan   \n",
       "3  wddhf5kb3da735753    tx        3.8   23923.0  white  off-white   \n",
       "4  1fm5k8d84dgc59887    mi        5.0   18494.0    red      black   \n",
       "\n",
       "                             seller    mmr  sellingprice  \\\n",
       "0                      go financial   4775          2500   \n",
       "1          volkswagen credit inc/sc  12050         12750   \n",
       "2   mid atlantic finance/clearwater   2850          2700   \n",
       "3  mercedes-benz financial services  32200         32000   \n",
       "4     ford motor credit company,llc  29100         28100   \n",
       "\n",
       "                                  saledate  Unnamed: 16  \n",
       "0  Thu May 28 2015 03:00:00 GMT-0700 (PDT)          NaN  \n",
       "1  Wed Jul 01 2015 09:30:00 GMT-0700 (PDT)          NaN  \n",
       "2  Wed Feb 11 2015 08:00:00 GMT-0800 (PST)          NaN  \n",
       "3  Thu Feb 12 2015 03:00:00 GMT-0800 (PST)          NaN  \n",
       "4  Thu Jun 11 2015 02:30:00 GMT-0700 (PDT)          NaN  "
      ]
     },
     "execution_count": 50,
     "metadata": {},
     "output_type": "execute_result"
    }
   ],
   "source": [
    "# Another data loading\n",
    "cars=pd.read_csv(\"cars.csv\", delimiter=\";\")\n",
    "cars.head()"
   ]
  },
  {
   "cell_type": "markdown",
   "id": "9a9aa0dc",
   "metadata": {},
   "source": [
    "The above data shows cars details, \"year\", \"make\", \"model\", \"transmission\" ,\"state\", \"condition\", \"color\", \" interior\" this types features."
   ]
  },
  {
   "cell_type": "code",
   "execution_count": 51,
   "id": "3b2d2fb0",
   "metadata": {},
   "outputs": [],
   "source": [
    "#  using log function for normalisation\n",
    "\n",
    "price=cars[\"sellingprice\"]"
   ]
  },
  {
   "cell_type": "code",
   "execution_count": 52,
   "id": "d195a59a",
   "metadata": {},
   "outputs": [
    {
     "data": {
      "image/png": "[encoded data removed]",
      "text/plain": [
       "<Figure size 640x480 with 1 Axes>"
      ]
     },
     "metadata": {},
     "output_type": "display_data"
    }
   ],
   "source": [
    "# plot histogram without log function\n",
    "\n",
    "plt.hist(price, bins=200)\n",
    "plt.title(\"Selling price distribution\")\n",
    "plt.xlabel(\" Price of cars\")\n",
    "plt.ylabel(\"count\")\n",
    "\n",
    "plt.show()"
   ]
  },
  {
   "cell_type": "markdown",
   "id": "9d68f8f6",
   "metadata": {},
   "source": [
    "The above graph is shows that price of cars vs count, and basically it shows right skewed distribution."
   ]
  },
  {
   "cell_type": "code",
   "execution_count": 53,
   "id": "c2358254",
   "metadata": {},
   "outputs": [
    {
     "data": {
      "image/png": "[encoded data removed]",
      "text/plain": [
       "<Figure size 640x480 with 1 Axes>"
      ]
     },
     "metadata": {},
     "output_type": "display_data"
    }
   ],
   "source": [
    "# #using log function of price \n",
    "\n",
    "log_price=np.log(price)\n",
    "\n",
    "# plot histogram with log function of price\n",
    "\n",
    "plt.hist(log_price, bins=100)\n",
    "plt.show()"
   ]
  },
  {
   "cell_type": "markdown",
   "id": "f9278191",
   "metadata": {},
   "source": [
    "Now the following graph indicates an almost normal distribution. "
   ]
  },
  {
   "cell_type": "code",
   "execution_count": 54,
   "id": "d3b2041b",
   "metadata": {},
   "outputs": [
    {
     "data": {
      "text/plain": [
       "array(['Chrysler', 'Volkswagen', 'Dodge', 'Mercedes-Benz', 'Ford',\n",
       "       'Toyota', 'Honda', 'Nissan', 'Chevrolet', 'Jeep', 'Hyundai', 'GMC',\n",
       "       'Jaguar', 'Audi', 'Lexus', 'Pontiac', 'BMW', nan, 'Suzuki',\n",
       "       'Mitsubishi', 'Kia', 'MINI', 'Ram', 'Acura', 'Subaru', 'Buick',\n",
       "       'Mazda', 'Volvo', 'Infiniti', 'mazda', 'cadillac', 'Isuzu', 'bmw',\n",
       "       'Mercury', 'Land Rover', 'Lincoln', 'smart', 'nissan', 'HUMMER',\n",
       "       'Cadillac', 'Saturn', 'Scion', 'Saab', 'FIAT', 'Porsche',\n",
       "       'Rolls-Royce', 'Oldsmobile', 'chevrolet', 'lexus', 'mercedes',\n",
       "       'ford', 'chrysler', 'Daewoo', 'Maserati', 'hyundai', 'dodge',\n",
       "       'toyota', 'land rover', 'jeep', 'mitsubishi', 'subaru',\n",
       "       'oldsmobile', 'honda'], dtype=object)"
      ]
     },
     "execution_count": 54,
     "metadata": {},
     "output_type": "execute_result"
    }
   ],
   "source": [
    "# unique in make features\n",
    "\n",
    "cars[\"make\"].unique()"
   ]
  },
  {
   "cell_type": "code",
   "execution_count": 55,
   "id": "0971a37c",
   "metadata": {},
   "outputs": [
    {
     "data": {
      "text/plain": [
       "make\n",
       "Ford           1701\n",
       "Chevrolet      1050\n",
       "Nissan          954\n",
       "Toyota          702\n",
       "Dodge           550\n",
       "               ... \n",
       "Rolls-Royce       1\n",
       "mitsubishi        1\n",
       "mazda             1\n",
       "oldsmobile        1\n",
       "honda             1\n",
       "Name: count, Length: 62, dtype: int64"
      ]
     },
     "execution_count": 55,
     "metadata": {},
     "output_type": "execute_result"
    }
   ],
   "source": [
    "cars.make.value_counts()"
   ]
  },
  {
   "cell_type": "code",
   "execution_count": 56,
   "id": "03302a1c",
   "metadata": {},
   "outputs": [
    {
     "data": {
      "text/html": [
       "<div>\n",
       "<style scoped>\n",
       "    .dataframe tbody tr th:only-of-type {\n",
       "        vertical-align: middle;\n",
       "    }\n",
       "\n",
       "    .dataframe tbody tr th {\n",
       "        vertical-align: top;\n",
       "    }\n",
       "\n",
       "    .dataframe thead th {\n",
       "        text-align: right;\n",
       "    }\n",
       "</style>\n",
       "<table border=\"1\" class=\"dataframe\">\n",
       "  <thead>\n",
       "    <tr style=\"text-align: right;\">\n",
       "      <th></th>\n",
       "      <th>Unnamed: 0</th>\n",
       "      <th>year</th>\n",
       "      <th>make</th>\n",
       "      <th>model</th>\n",
       "      <th>trim</th>\n",
       "      <th>body</th>\n",
       "      <th>transmission</th>\n",
       "      <th>vin</th>\n",
       "      <th>state</th>\n",
       "      <th>condition</th>\n",
       "      <th>odometer</th>\n",
       "      <th>color</th>\n",
       "      <th>interior</th>\n",
       "      <th>seller</th>\n",
       "      <th>mmr</th>\n",
       "      <th>sellingprice</th>\n",
       "      <th>saledate</th>\n",
       "      <th>Unnamed: 16</th>\n",
       "    </tr>\n",
       "  </thead>\n",
       "  <tbody>\n",
       "    <tr>\n",
       "      <th>1</th>\n",
       "      <td>197199</td>\n",
       "      <td>2014</td>\n",
       "      <td>Volkswagen</td>\n",
       "      <td>Jetta</td>\n",
       "      <td>S</td>\n",
       "      <td>Sedan</td>\n",
       "      <td>manual</td>\n",
       "      <td>3vw1k7aj9em275429</td>\n",
       "      <td>ca</td>\n",
       "      <td>4.9</td>\n",
       "      <td>7740.0</td>\n",
       "      <td>—</td>\n",
       "      <td>black</td>\n",
       "      <td>volkswagen credit inc/sc</td>\n",
       "      <td>12050</td>\n",
       "      <td>12750</td>\n",
       "      <td>Wed Jul 01 2015 09:30:00 GMT-0700 (PDT)</td>\n",
       "      <td>NaN</td>\n",
       "    </tr>\n",
       "    <tr>\n",
       "      <th>64</th>\n",
       "      <td>451301</td>\n",
       "      <td>2013</td>\n",
       "      <td>Volkswagen</td>\n",
       "      <td>Passat</td>\n",
       "      <td>SE PZEV</td>\n",
       "      <td>sedan</td>\n",
       "      <td>automatic</td>\n",
       "      <td>1vwbp7a30dc098938</td>\n",
       "      <td>fl</td>\n",
       "      <td>3.5</td>\n",
       "      <td>56131.0</td>\n",
       "      <td>white</td>\n",
       "      <td>black</td>\n",
       "      <td>the hertz corporation</td>\n",
       "      <td>10950</td>\n",
       "      <td>11300</td>\n",
       "      <td>Tue May 26 2015 02:15:00 GMT-0700 (PDT)</td>\n",
       "      <td>NaN</td>\n",
       "    </tr>\n",
       "    <tr>\n",
       "      <th>123</th>\n",
       "      <td>76803</td>\n",
       "      <td>2009</td>\n",
       "      <td>Volkswagen</td>\n",
       "      <td>Passat</td>\n",
       "      <td>Komfort</td>\n",
       "      <td>Sedan</td>\n",
       "      <td>automatic</td>\n",
       "      <td>wvwjk73c89p028582</td>\n",
       "      <td>fl</td>\n",
       "      <td>2.8</td>\n",
       "      <td>104654.0</td>\n",
       "      <td>blue</td>\n",
       "      <td>black</td>\n",
       "      <td>holman honda of fort lauderdale</td>\n",
       "      <td>6075</td>\n",
       "      <td>6500</td>\n",
       "      <td>Fri Jan 02 2015 09:35:00 GMT-0800 (PST)</td>\n",
       "      <td>NaN</td>\n",
       "    </tr>\n",
       "    <tr>\n",
       "      <th>165</th>\n",
       "      <td>244557</td>\n",
       "      <td>2008</td>\n",
       "      <td>Volkswagen</td>\n",
       "      <td>New Beetle</td>\n",
       "      <td>SE PZEV</td>\n",
       "      <td>Convertible</td>\n",
       "      <td>automatic</td>\n",
       "      <td>3vwrg31y78m403214</td>\n",
       "      <td>ca</td>\n",
       "      <td>4.4</td>\n",
       "      <td>48426.0</td>\n",
       "      <td>beige</td>\n",
       "      <td>tan</td>\n",
       "      <td>bob baker jeep</td>\n",
       "      <td>7625</td>\n",
       "      <td>9250</td>\n",
       "      <td>Wed Feb 04 2015 04:15:00 GMT-0800 (PST)</td>\n",
       "      <td>NaN</td>\n",
       "    </tr>\n",
       "    <tr>\n",
       "      <th>204</th>\n",
       "      <td>54031</td>\n",
       "      <td>2012</td>\n",
       "      <td>Volkswagen</td>\n",
       "      <td>Passat</td>\n",
       "      <td>TDI SEL Premium</td>\n",
       "      <td>Sedan</td>\n",
       "      <td>automatic</td>\n",
       "      <td>1vwcn7a31cc002307</td>\n",
       "      <td>ma</td>\n",
       "      <td>3.4</td>\n",
       "      <td>95629.0</td>\n",
       "      <td>black</td>\n",
       "      <td>tan</td>\n",
       "      <td>clay subaru</td>\n",
       "      <td>14050</td>\n",
       "      <td>11000</td>\n",
       "      <td>Tue Dec 23 2014 10:00:00 GMT-0800 (PST)</td>\n",
       "      <td>NaN</td>\n",
       "    </tr>\n",
       "  </tbody>\n",
       "</table>\n",
       "</div>"
      ],
      "text/plain": [
       "     Unnamed: 0  year        make       model             trim         body  \\\n",
       "1        197199  2014  Volkswagen       Jetta                S        Sedan   \n",
       "64       451301  2013  Volkswagen      Passat          SE PZEV        sedan   \n",
       "123       76803  2009  Volkswagen      Passat          Komfort        Sedan   \n",
       "165      244557  2008  Volkswagen  New Beetle          SE PZEV  Convertible   \n",
       "204       54031  2012  Volkswagen      Passat  TDI SEL Premium        Sedan   \n",
       "\n",
       "    transmission                vin state  condition  odometer  color  \\\n",
       "1         manual  3vw1k7aj9em275429    ca        4.9    7740.0      —   \n",
       "64     automatic  1vwbp7a30dc098938    fl        3.5   56131.0  white   \n",
       "123    automatic  wvwjk73c89p028582    fl        2.8  104654.0   blue   \n",
       "165    automatic  3vwrg31y78m403214    ca        4.4   48426.0  beige   \n",
       "204    automatic  1vwcn7a31cc002307    ma        3.4   95629.0  black   \n",
       "\n",
       "    interior                           seller    mmr  sellingprice  \\\n",
       "1      black         volkswagen credit inc/sc  12050         12750   \n",
       "64     black            the hertz corporation  10950         11300   \n",
       "123    black  holman honda of fort lauderdale   6075          6500   \n",
       "165      tan                   bob baker jeep   7625          9250   \n",
       "204      tan                      clay subaru  14050         11000   \n",
       "\n",
       "                                    saledate  Unnamed: 16  \n",
       "1    Wed Jul 01 2015 09:30:00 GMT-0700 (PDT)          NaN  \n",
       "64   Tue May 26 2015 02:15:00 GMT-0700 (PDT)          NaN  \n",
       "123  Fri Jan 02 2015 09:35:00 GMT-0800 (PST)          NaN  \n",
       "165  Wed Feb 04 2015 04:15:00 GMT-0800 (PST)          NaN  \n",
       "204  Tue Dec 23 2014 10:00:00 GMT-0800 (PST)          NaN  "
      ]
     },
     "execution_count": 56,
     "metadata": {},
     "output_type": "execute_result"
    }
   ],
   "source": [
    "# find out volkswagen cars model\n",
    "\n",
    "Volkswagen_cars= cars[cars[\"make\"] == \"Volkswagen\"]\n",
    "Volkswagen_cars.head()"
   ]
  },
  {
   "cell_type": "markdown",
   "id": "0f53e000",
   "metadata": {},
   "source": [
    "The table shows volkswagen cars different model with its details."
   ]
  },
  {
   "cell_type": "code",
   "execution_count": 57,
   "id": "2d98fda1",
   "metadata": {},
   "outputs": [
    {
     "data": {
      "text/plain": [
       "model\n",
       "Jetta               80\n",
       "Passat              63\n",
       "New Beetle          16\n",
       "Tiguan              14\n",
       "GTI                 14\n",
       "Beetle               7\n",
       "CC                   7\n",
       "Golf                 7\n",
       "Eos                  6\n",
       "Jetta SportWagen     4\n",
       "Touareg              2\n",
       "Jetta GLI            2\n",
       "R32                  2\n",
       "Golf R               1\n",
       "Cabrio               1\n",
       "Jetta Hybrid         1\n",
       "Routan               1\n",
       "Name: count, dtype: int64"
      ]
     },
     "execution_count": 57,
     "metadata": {},
     "output_type": "execute_result"
    }
   ],
   "source": [
    "# Quntity of volkswagen car with model \n",
    "\n",
    "Volkswagen_cars.model.value_counts()"
   ]
  },
  {
   "cell_type": "code",
   "execution_count": 58,
   "id": "c804a6f9",
   "metadata": {},
   "outputs": [
    {
     "data": {
      "text/plain": [
       "transmission\n",
       "automatic    179\n",
       "manual        24\n",
       "Name: count, dtype: int64"
      ]
     },
     "execution_count": 58,
     "metadata": {},
     "output_type": "execute_result"
    }
   ],
   "source": [
    "# unique value in the transmission and value counts of each unique values.\n",
    "\n",
    "Volkswagen_cars[\"transmission\"].unique()\n",
    "Volkswagen_cars.transmission.value_counts()"
   ]
  },
  {
   "cell_type": "markdown",
   "id": "e47bb6d3",
   "metadata": {},
   "source": [
    "Above information shows that \"automatic transmission\" has 179 cars and \"manual transmission\" has 24 cars."
   ]
  },
  {
   "cell_type": "code",
   "execution_count": null,
   "id": "546b24e9",
   "metadata": {},
   "outputs": [],
   "source": []
  },
  {
   "cell_type": "code",
   "execution_count": null,
   "id": "65070f4c",
   "metadata": {},
   "outputs": [],
   "source": []
  },
  {
   "cell_type": "code",
   "execution_count": null,
   "id": "ce16f531",
   "metadata": {},
   "outputs": [],
   "source": []
  },
  {
   "cell_type": "code",
   "execution_count": null,
   "id": "63728548",
   "metadata": {},
   "outputs": [],
   "source": []
  },
  {
   "cell_type": "code",
   "execution_count": null,
   "id": "c1743f5f",
   "metadata": {},
   "outputs": [],
   "source": []
  },
  {
   "cell_type": "code",
   "execution_count": null,
   "id": "2da461a9",
   "metadata": {},
   "outputs": [],
   "source": []
  },
  {
   "cell_type": "code",
   "execution_count": null,
   "id": "dd77e2fa",
   "metadata": {},
   "outputs": [],
   "source": []
  }
 ],
 "metadata": {
  "kernelspec": {
   "display_name": "Python 3 (ipykernel)",
   "language": "python",
   "name": "python3"
  },
  "language_info": {
   "codemirror_mode": {
    "name": "ipython",
    "version": 3
   },
   "file_extension": ".py",
   "mimetype": "text/x-python",
   "name": "python",
   "nbconvert_exporter": "python",
   "pygments_lexer": "ipython3",
   "version": "3.11.5"
  }
 },
 "nbformat": 4,
 "nbformat_minor": 5
}
